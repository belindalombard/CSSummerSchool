{
 "cells": [
  {
   "cell_type": "markdown",
   "id": "bf00e58d",
   "metadata": {},
   "source": [
    "# 🦠 Pandemic Commander\n",
    "Welcome to the outbreak simulation!\n",
    "\n",
    "You're in charge of managing a fictional disease outbreak. Your job is to tweak the parameters and see if you can meet three key public health goals.\n",
    "\n",
    "👇 Change the values, run the code, and check your plots!"
   ]
  },
  {
   "cell_type": "code",
   "execution_count": null,
   "id": "f66243db",
   "metadata": {},
   "outputs": [],
   "source": [
    "import numpy as np\n",
    "import matplotlib.pyplot as plt\n",
    "from scipy.integrate import odeint\n",
    "%matplotlib inline"
   ]
  },
  {
   "cell_type": "code",
   "execution_count": null,
   "id": "c5cee775",
   "metadata": {},
   "outputs": [],
   "source": [
    "def SIR_model(y, t, beta, gamma, vaccination_rate):\n",
    "    S, I, R = y\n",
    "    dSdt = -beta * S * I + vaccination_rate * R\n",
    "    dIdt = beta * S * I - gamma * I\n",
    "    dRdt = gamma * I - vaccination_rate * R\n",
    "    return [dSdt, dIdt, dRdt]"
   ]
  },
  {
   "cell_type": "code",
   "execution_count": null,
   "id": "81db1920",
   "metadata": {},
   "outputs": [],
   "source": [
    "def simulate_sir(beta, gamma, vaccination_rate, label):\n",
    "    S0, I0, R0 = 0.99, 0.01, 0.0\n",
    "    y0 = [S0, I0, R0]\n",
    "    t = np.linspace(0, 160, 160)\n",
    "    solution = odeint(SIR_model, y0, t, args=(beta, gamma, vaccination_rate))\n",
    "    S, I, R = solution.T\n",
    "    plt.plot(t, I, label=f'{label} (peak={max(I):.2f})')\n",
    "    return max(I), R[-1], I[100]"
   ]
  },
  {
   "cell_type": "markdown",
   "id": "9b60bca9",
   "metadata": {},
   "source": [
    "## 🎯 Your 3 Challenges\n",
    "Adjust the values below for **each challenge**, and run the cell below it.\n",
    "Watch the graph and printed results to see if you’ve succeeded!\n",
    "\n",
    "---\n",
    "### ✅ CHALLENGE 1: Flatten the Curve\n",
    "- Goal: Make the **peak of infections** lower than **0.2**"
   ]
  },
  {
   "cell_type": "code",
   "execution_count": null,
   "id": "7b2ccb11",
   "metadata": {},
   "outputs": [],
   "source": [
    "# 🔧 Tweak these for CHALLENGE 1\n",
    "beta = 0.3\n",
    "gamma = 0.1\n",
    "vaccination_rate = 0.00\n",
    "\n",
    "plt.figure(figsize=(10, 5))\n",
    "peak, final_R, I_day100 = simulate_sir(beta, gamma, vaccination_rate, 'Challenge 1')\n",
    "plt.title('CHALLENGE 1: Flatten the Curve')\n",
    "plt.xlabel('Time (days)')\n",
    "plt.ylabel('Infected proportion')\n",
    "plt.grid(True)\n",
    "plt.legend()\n",
    "plt.show()\n",
    "\n",
    "print(f'✅ Peak Infection = {peak:.2f}')\n",
    "if peak < 0.2:\n",
    "    print('🎉 SUCCESS: You flattened the curve!')\n",
    "else:\n",
    "    print('🔁 Try again: Peak is too high.')"
   ]
  },
  {
   "cell_type": "markdown",
   "id": "c0c3b5df",
   "metadata": {},
   "source": [
    "---\n",
    "### ✅ CHALLENGE 2: Achieve Herd Immunity\n",
    "- Goal: End with **at least 70% recovered** population"
   ]
  },
  {
   "cell_type": "code",
   "execution_count": null,
   "id": "15a60184",
   "metadata": {},
   "outputs": [],
   "source": [
    "# 🔧 Tweak these for CHALLENGE 2\n",
    "beta = 0.4\n",
    "gamma = 0.1\n",
    "vaccination_rate = 0.01\n",
    "\n",
    "plt.figure(figsize=(10, 5))\n",
    "peak, final_R, I_day100 = simulate_sir(beta, gamma, vaccination_rate, 'Challenge 2')\n",
    "plt.title('CHALLENGE 2: Achieve Herd Immunity')\n",
    "plt.xlabel('Time (days)')\n",
    "plt.ylabel('Infected proportion')\n",
    "plt.grid(True)\n",
    "plt.legend()\n",
    "plt.show()\n",
    "\n",
    "print(f'✅ Final Recovered = {final_R:.2f}')\n",
    "if final_R > 0.7:\n",
    "    print('🎉 SUCCESS: You achieved herd immunity!')\n",
    "else:\n",
    "    print('🔁 Try again: Not enough people recovered.')"
   ]
  },
  {
   "cell_type": "markdown",
   "id": "177d4d27",
   "metadata": {},
   "source": [
    "---\n",
    "### ✅ CHALLENGE 3: Stop the Outbreak\n",
    "- Goal: Infections fall below **1% by day 100**"
   ]
  },
  {
   "cell_type": "code",
   "execution_count": null,
   "id": "91beeda3",
   "metadata": {},
   "outputs": [],
   "source": [
    "# 🔧 Tweak these for CHALLENGE 3\n",
    "beta = 0.2\n",
    "gamma = 0.2\n",
    "vaccination_rate = 0.03\n",
    "\n",
    "plt.figure(figsize=(10, 5))\n",
    "peak, final_R, I_day100 = simulate_sir(beta, gamma, vaccination_rate, 'Challenge 3')\n",
    "plt.title('CHALLENGE 3: Stop the Outbreak')\n",
    "plt.xlabel('Time (days)')\n",
    "plt.ylabel('Infected proportion')\n",
    "plt.grid(True)\n",
    "plt.legend()\n",
    "plt.show()\n",
    "\n",
    "print(f'✅ Infected at Day 100 = {I_day100:.3f}')\n",
    "if I_day100 < 0.01:\n",
    "    print('🎉 SUCCESS: The outbreak is controlled!')\n",
    "else:\n",
    "    print('🔁 Try again: Still too many infected at day 100.')"
   ]
  }
 ],
 "metadata": {},
 "nbformat": 4,
 "nbformat_minor": 5
}
