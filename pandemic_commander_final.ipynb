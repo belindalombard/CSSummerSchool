{
 "cells": [
  {
   "cell_type": "markdown",
   "id": "8196306a",
   "metadata": {},
   "source": [
    "# 🦠 Pandemic Commander\n",
    "Welcome to the outbreak simulation!\n",
    "\n",
    "You're in charge of managing a fictional disease outbreak. Your job is to tweak the parameters and try to complete three increasingly difficult public health challenges.\n",
    "\n",
    "👇 Change the values in the code blocks, run the code, and check your results!"
   ]
  },
  {
   "cell_type": "code",
   "execution_count": null,
   "id": "e37de4f0",
   "metadata": {},
   "outputs": [],
   "source": [
    "import numpy as np\n",
    "import matplotlib.pyplot as plt\n",
    "from scipy.integrate import odeint\n",
    "%matplotlib inline"
   ]
  },
  {
   "cell_type": "code",
   "execution_count": null,
   "id": "0fabe39e",
   "metadata": {},
   "outputs": [],
   "source": [
    "def SIR_model(y, t, beta, gamma, vaccination_rate):\n",
    "    S, I, R = y\n",
    "    dSdt = -beta * S * I + vaccination_rate * R\n",
    "    dIdt = beta * S * I - gamma * I\n",
    "    dRdt = gamma * I - vaccination_rate * R\n",
    "    return [dSdt, dIdt, dRdt]"
   ]
  },
  {
   "cell_type": "code",
   "execution_count": null,
   "id": "16732c97",
   "metadata": {},
   "outputs": [],
   "source": [
    "def simulate_sir(beta, gamma, vaccination_rate, label):\n",
    "    S0, I0, R0 = 0.99, 0.01, 0.0\n",
    "    y0 = [S0, I0, R0]\n",
    "    global t, I  # make t and I accessible for checking duration later\n",
    "    t = np.linspace(0, 160, 160)\n",
    "    solution = odeint(SIR_model, y0, t, args=(beta, gamma, vaccination_rate))\n",
    "    S, I, R = solution.T\n",
    "    plt.plot(t, I, label=f'{label} (peak={max(I):.2f})')\n",
    "    return max(I), R[-1], I[100]"
   ]
  },
  {
   "cell_type": "markdown",
   "id": "f9b1a87c",
   "metadata": {},
   "source": [
    "## ✅ CHALLENGE 1: Strategic Flattening\n",
    "Flatten the curve — but don’t stop the outbreak too early!\n",
    "**Goal:**\n",
    "- Peak infections must be **below 0.25**\n",
    "- The outbreak must last **at least 60 days**"
   ]
  },
  {
   "cell_type": "code",
   "execution_count": null,
   "id": "95a34a39",
   "metadata": {},
   "outputs": [],
   "source": [
    "# 🔧 Tweak these for CHALLENGE 1\n",
    "beta = 0.3\n",
    "gamma = 0.1\n",
    "vaccination_rate = 0.00\n",
    "\n",
    "plt.figure(figsize=(10, 5))\n",
    "peak, final_R, I_day100 = simulate_sir(beta, gamma, vaccination_rate, 'Challenge 1')\n",
    "plt.title('CHALLENGE 1: Strategic Flattening')\n",
    "plt.xlabel('Time (days)')\n",
    "plt.ylabel('Infected proportion')\n",
    "plt.grid(True)\n",
    "plt.legend()\n",
    "plt.show()\n",
    "\n",
    "duration = t[np.argmax(I < 0.001)] if np.any(I < 0.001) else 160\n",
    "print(f'✅ Peak Infection = {peak:.2f}')\n",
    "print(f'✅ Duration until infections fall below 0.001: {duration:.0f} days')\n",
    "if peak < 0.25 and duration >= 60:\n",
    "    print(\"🎉 SUCCESS: Strategic flattening achieved!\")\n",
    "else:\n",
    "    print(\"🔁 Try again: Your curve was either too high or too short.\")"
   ]
  }
 ],
 "metadata": {},
 "nbformat": 4,
 "nbformat_minor": 5
}
